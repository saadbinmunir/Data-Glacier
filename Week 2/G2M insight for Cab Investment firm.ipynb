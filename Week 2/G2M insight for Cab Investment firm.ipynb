{
 "cells": [
  {
   "cell_type": "markdown",
   "id": "ba34f47e",
   "metadata": {},
   "source": [
    "## Import Libraries"
   ]
  },
  {
   "cell_type": "code",
   "execution_count": 33,
   "id": "c361d2ce",
   "metadata": {},
   "outputs": [],
   "source": [
    "import pandas as pd\n",
    "import numpy as np\n",
    "import matplotlib.pyplot as plt\n",
    "import seaborn as sns\n",
    "%matplotlib inline"
   ]
  },
  {
   "cell_type": "markdown",
   "id": "4622e3a2",
   "metadata": {},
   "source": [
    "## Read Datasets"
   ]
  },
  {
   "cell_type": "code",
   "execution_count": 34,
   "id": "78f48d74",
   "metadata": {},
   "outputs": [],
   "source": [
    "Cab_Data=pd.read_csv('DataSets-main/Cab_Data.csv')\n",
    "City=pd.read_csv('DataSets-main/City.csv')\n",
    "Customer_ID=pd.read_csv('DataSets-main/Customer_ID.csv')\n",
    "Transaction_ID=pd.read_csv('DataSets-main/Transaction_ID.csv')"
   ]
  },
  {
   "cell_type": "markdown",
   "id": "7068e65a",
   "metadata": {},
   "source": [
    "## Check each dataset and analyse their datatypes\n",
    "\n",
    "### Cab Data"
   ]
  },
  {
   "cell_type": "code",
   "execution_count": 35,
   "id": "e3a34fc8",
   "metadata": {},
   "outputs": [
    {
     "data": {
      "text/html": [
       "<div>\n",
       "<style scoped>\n",
       "    .dataframe tbody tr th:only-of-type {\n",
       "        vertical-align: middle;\n",
       "    }\n",
       "\n",
       "    .dataframe tbody tr th {\n",
       "        vertical-align: top;\n",
       "    }\n",
       "\n",
       "    .dataframe thead th {\n",
       "        text-align: right;\n",
       "    }\n",
       "</style>\n",
       "<table border=\"1\" class=\"dataframe\">\n",
       "  <thead>\n",
       "    <tr style=\"text-align: right;\">\n",
       "      <th></th>\n",
       "      <th>Transaction ID</th>\n",
       "      <th>Date of Travel</th>\n",
       "      <th>Company</th>\n",
       "      <th>City</th>\n",
       "      <th>KM Travelled</th>\n",
       "      <th>Price Charged</th>\n",
       "      <th>Cost of Trip</th>\n",
       "    </tr>\n",
       "  </thead>\n",
       "  <tbody>\n",
       "    <tr>\n",
       "      <th>0</th>\n",
       "      <td>10000011</td>\n",
       "      <td>08/01/2016</td>\n",
       "      <td>Pink Cab</td>\n",
       "      <td>ATLANTA GA</td>\n",
       "      <td>30.45</td>\n",
       "      <td>370.95</td>\n",
       "      <td>313.635</td>\n",
       "    </tr>\n",
       "    <tr>\n",
       "      <th>1</th>\n",
       "      <td>10000012</td>\n",
       "      <td>06/01/2016</td>\n",
       "      <td>Pink Cab</td>\n",
       "      <td>ATLANTA GA</td>\n",
       "      <td>28.62</td>\n",
       "      <td>358.52</td>\n",
       "      <td>334.854</td>\n",
       "    </tr>\n",
       "    <tr>\n",
       "      <th>2</th>\n",
       "      <td>10000013</td>\n",
       "      <td>02/01/2016</td>\n",
       "      <td>Pink Cab</td>\n",
       "      <td>ATLANTA GA</td>\n",
       "      <td>9.04</td>\n",
       "      <td>125.20</td>\n",
       "      <td>97.632</td>\n",
       "    </tr>\n",
       "    <tr>\n",
       "      <th>3</th>\n",
       "      <td>10000014</td>\n",
       "      <td>07/01/2016</td>\n",
       "      <td>Pink Cab</td>\n",
       "      <td>ATLANTA GA</td>\n",
       "      <td>33.17</td>\n",
       "      <td>377.40</td>\n",
       "      <td>351.602</td>\n",
       "    </tr>\n",
       "    <tr>\n",
       "      <th>4</th>\n",
       "      <td>10000015</td>\n",
       "      <td>03/01/2016</td>\n",
       "      <td>Pink Cab</td>\n",
       "      <td>ATLANTA GA</td>\n",
       "      <td>8.73</td>\n",
       "      <td>114.62</td>\n",
       "      <td>97.776</td>\n",
       "    </tr>\n",
       "  </tbody>\n",
       "</table>\n",
       "</div>"
      ],
      "text/plain": [
       "   Transaction ID Date of Travel   Company        City  KM Travelled  \\\n",
       "0        10000011     08/01/2016  Pink Cab  ATLANTA GA         30.45   \n",
       "1        10000012     06/01/2016  Pink Cab  ATLANTA GA         28.62   \n",
       "2        10000013     02/01/2016  Pink Cab  ATLANTA GA          9.04   \n",
       "3        10000014     07/01/2016  Pink Cab  ATLANTA GA         33.17   \n",
       "4        10000015     03/01/2016  Pink Cab  ATLANTA GA          8.73   \n",
       "\n",
       "   Price Charged  Cost of Trip  \n",
       "0         370.95       313.635  \n",
       "1         358.52       334.854  \n",
       "2         125.20        97.632  \n",
       "3         377.40       351.602  \n",
       "4         114.62        97.776  "
      ]
     },
     "execution_count": 35,
     "metadata": {},
     "output_type": "execute_result"
    }
   ],
   "source": [
    "Cab_Data.head()"
   ]
  },
  {
   "cell_type": "code",
   "execution_count": 36,
   "id": "e5b0be11",
   "metadata": {},
   "outputs": [
    {
     "data": {
      "text/html": [
       "<div>\n",
       "<style scoped>\n",
       "    .dataframe tbody tr th:only-of-type {\n",
       "        vertical-align: middle;\n",
       "    }\n",
       "\n",
       "    .dataframe tbody tr th {\n",
       "        vertical-align: top;\n",
       "    }\n",
       "\n",
       "    .dataframe thead th {\n",
       "        text-align: right;\n",
       "    }\n",
       "</style>\n",
       "<table border=\"1\" class=\"dataframe\">\n",
       "  <thead>\n",
       "    <tr style=\"text-align: right;\">\n",
       "      <th></th>\n",
       "      <th>Transaction ID</th>\n",
       "      <th>KM Travelled</th>\n",
       "      <th>Price Charged</th>\n",
       "      <th>Cost of Trip</th>\n",
       "    </tr>\n",
       "  </thead>\n",
       "  <tbody>\n",
       "    <tr>\n",
       "      <th>count</th>\n",
       "      <td>3.593920e+05</td>\n",
       "      <td>359392.000000</td>\n",
       "      <td>359392.000000</td>\n",
       "      <td>359392.000000</td>\n",
       "    </tr>\n",
       "    <tr>\n",
       "      <th>mean</th>\n",
       "      <td>1.022076e+07</td>\n",
       "      <td>22.567254</td>\n",
       "      <td>423.443311</td>\n",
       "      <td>286.190113</td>\n",
       "    </tr>\n",
       "    <tr>\n",
       "      <th>std</th>\n",
       "      <td>1.268058e+05</td>\n",
       "      <td>12.233526</td>\n",
       "      <td>274.378911</td>\n",
       "      <td>157.993661</td>\n",
       "    </tr>\n",
       "    <tr>\n",
       "      <th>min</th>\n",
       "      <td>1.000001e+07</td>\n",
       "      <td>1.900000</td>\n",
       "      <td>15.600000</td>\n",
       "      <td>19.000000</td>\n",
       "    </tr>\n",
       "    <tr>\n",
       "      <th>25%</th>\n",
       "      <td>1.011081e+07</td>\n",
       "      <td>12.000000</td>\n",
       "      <td>206.437500</td>\n",
       "      <td>151.200000</td>\n",
       "    </tr>\n",
       "    <tr>\n",
       "      <th>50%</th>\n",
       "      <td>1.022104e+07</td>\n",
       "      <td>22.440000</td>\n",
       "      <td>386.360000</td>\n",
       "      <td>282.480000</td>\n",
       "    </tr>\n",
       "    <tr>\n",
       "      <th>75%</th>\n",
       "      <td>1.033094e+07</td>\n",
       "      <td>32.960000</td>\n",
       "      <td>583.660000</td>\n",
       "      <td>413.683200</td>\n",
       "    </tr>\n",
       "    <tr>\n",
       "      <th>max</th>\n",
       "      <td>1.044011e+07</td>\n",
       "      <td>48.000000</td>\n",
       "      <td>2048.030000</td>\n",
       "      <td>691.200000</td>\n",
       "    </tr>\n",
       "  </tbody>\n",
       "</table>\n",
       "</div>"
      ],
      "text/plain": [
       "       Transaction ID   KM Travelled  Price Charged   Cost of Trip\n",
       "count    3.593920e+05  359392.000000  359392.000000  359392.000000\n",
       "mean     1.022076e+07      22.567254     423.443311     286.190113\n",
       "std      1.268058e+05      12.233526     274.378911     157.993661\n",
       "min      1.000001e+07       1.900000      15.600000      19.000000\n",
       "25%      1.011081e+07      12.000000     206.437500     151.200000\n",
       "50%      1.022104e+07      22.440000     386.360000     282.480000\n",
       "75%      1.033094e+07      32.960000     583.660000     413.683200\n",
       "max      1.044011e+07      48.000000    2048.030000     691.200000"
      ]
     },
     "execution_count": 36,
     "metadata": {},
     "output_type": "execute_result"
    }
   ],
   "source": [
    "Cab_Data.describe()"
   ]
  },
  {
   "cell_type": "code",
   "execution_count": 37,
   "id": "73c15aee",
   "metadata": {},
   "outputs": [
    {
     "name": "stdout",
     "output_type": "stream",
     "text": [
      "<class 'pandas.core.frame.DataFrame'>\n",
      "RangeIndex: 359392 entries, 0 to 359391\n",
      "Data columns (total 7 columns):\n",
      " #   Column          Non-Null Count   Dtype  \n",
      "---  ------          --------------   -----  \n",
      " 0   Transaction ID  359392 non-null  int64  \n",
      " 1   Date of Travel  359392 non-null  object \n",
      " 2   Company         359392 non-null  object \n",
      " 3   City            359392 non-null  object \n",
      " 4   KM Travelled    359392 non-null  float64\n",
      " 5   Price Charged   359392 non-null  float64\n",
      " 6   Cost of Trip    359392 non-null  float64\n",
      "dtypes: float64(3), int64(1), object(3)\n",
      "memory usage: 19.2+ MB\n"
     ]
    }
   ],
   "source": [
    "Cab_Data.info()"
   ]
  },
  {
   "cell_type": "markdown",
   "id": "c7a0737c",
   "metadata": {},
   "source": [
    "### City Data"
   ]
  },
  {
   "cell_type": "code",
   "execution_count": 38,
   "id": "2e9b5244",
   "metadata": {},
   "outputs": [
    {
     "data": {
      "text/html": [
       "<div>\n",
       "<style scoped>\n",
       "    .dataframe tbody tr th:only-of-type {\n",
       "        vertical-align: middle;\n",
       "    }\n",
       "\n",
       "    .dataframe tbody tr th {\n",
       "        vertical-align: top;\n",
       "    }\n",
       "\n",
       "    .dataframe thead th {\n",
       "        text-align: right;\n",
       "    }\n",
       "</style>\n",
       "<table border=\"1\" class=\"dataframe\">\n",
       "  <thead>\n",
       "    <tr style=\"text-align: right;\">\n",
       "      <th></th>\n",
       "      <th>City</th>\n",
       "      <th>Population</th>\n",
       "      <th>Users</th>\n",
       "    </tr>\n",
       "  </thead>\n",
       "  <tbody>\n",
       "    <tr>\n",
       "      <th>0</th>\n",
       "      <td>NEW YORK NY</td>\n",
       "      <td>8,405,837</td>\n",
       "      <td>302,149</td>\n",
       "    </tr>\n",
       "    <tr>\n",
       "      <th>1</th>\n",
       "      <td>CHICAGO IL</td>\n",
       "      <td>1,955,130</td>\n",
       "      <td>164,468</td>\n",
       "    </tr>\n",
       "    <tr>\n",
       "      <th>2</th>\n",
       "      <td>LOS ANGELES CA</td>\n",
       "      <td>1,595,037</td>\n",
       "      <td>144,132</td>\n",
       "    </tr>\n",
       "    <tr>\n",
       "      <th>3</th>\n",
       "      <td>MIAMI FL</td>\n",
       "      <td>1,339,155</td>\n",
       "      <td>17,675</td>\n",
       "    </tr>\n",
       "    <tr>\n",
       "      <th>4</th>\n",
       "      <td>SILICON VALLEY</td>\n",
       "      <td>1,177,609</td>\n",
       "      <td>27,247</td>\n",
       "    </tr>\n",
       "  </tbody>\n",
       "</table>\n",
       "</div>"
      ],
      "text/plain": [
       "             City   Population      Users\n",
       "0     NEW YORK NY   8,405,837    302,149 \n",
       "1      CHICAGO IL   1,955,130    164,468 \n",
       "2  LOS ANGELES CA   1,595,037    144,132 \n",
       "3        MIAMI FL   1,339,155     17,675 \n",
       "4  SILICON VALLEY   1,177,609     27,247 "
      ]
     },
     "execution_count": 38,
     "metadata": {},
     "output_type": "execute_result"
    }
   ],
   "source": [
    "City.head()"
   ]
  },
  {
   "cell_type": "code",
   "execution_count": 39,
   "id": "8db98fde",
   "metadata": {},
   "outputs": [
    {
     "data": {
      "text/html": [
       "<div>\n",
       "<style scoped>\n",
       "    .dataframe tbody tr th:only-of-type {\n",
       "        vertical-align: middle;\n",
       "    }\n",
       "\n",
       "    .dataframe tbody tr th {\n",
       "        vertical-align: top;\n",
       "    }\n",
       "\n",
       "    .dataframe thead th {\n",
       "        text-align: right;\n",
       "    }\n",
       "</style>\n",
       "<table border=\"1\" class=\"dataframe\">\n",
       "  <thead>\n",
       "    <tr style=\"text-align: right;\">\n",
       "      <th></th>\n",
       "      <th>City</th>\n",
       "      <th>Population</th>\n",
       "      <th>Users</th>\n",
       "    </tr>\n",
       "  </thead>\n",
       "  <tbody>\n",
       "    <tr>\n",
       "      <th>count</th>\n",
       "      <td>20</td>\n",
       "      <td>20</td>\n",
       "      <td>20</td>\n",
       "    </tr>\n",
       "    <tr>\n",
       "      <th>unique</th>\n",
       "      <td>20</td>\n",
       "      <td>20</td>\n",
       "      <td>20</td>\n",
       "    </tr>\n",
       "    <tr>\n",
       "      <th>top</th>\n",
       "      <td>ORANGE COUNTY</td>\n",
       "      <td>631,442</td>\n",
       "      <td>17,675</td>\n",
       "    </tr>\n",
       "    <tr>\n",
       "      <th>freq</th>\n",
       "      <td>1</td>\n",
       "      <td>1</td>\n",
       "      <td>1</td>\n",
       "    </tr>\n",
       "  </tbody>\n",
       "</table>\n",
       "</div>"
      ],
      "text/plain": [
       "                 City Population     Users\n",
       "count              20         20        20\n",
       "unique             20         20        20\n",
       "top     ORANGE COUNTY   631,442    17,675 \n",
       "freq                1          1         1"
      ]
     },
     "execution_count": 39,
     "metadata": {},
     "output_type": "execute_result"
    }
   ],
   "source": [
    "City.describe()"
   ]
  },
  {
   "cell_type": "code",
   "execution_count": 40,
   "id": "0bc56a90",
   "metadata": {},
   "outputs": [
    {
     "name": "stdout",
     "output_type": "stream",
     "text": [
      "<class 'pandas.core.frame.DataFrame'>\n",
      "RangeIndex: 359392 entries, 0 to 359391\n",
      "Data columns (total 7 columns):\n",
      " #   Column          Non-Null Count   Dtype  \n",
      "---  ------          --------------   -----  \n",
      " 0   Transaction ID  359392 non-null  int64  \n",
      " 1   Date of Travel  359392 non-null  object \n",
      " 2   Company         359392 non-null  object \n",
      " 3   City            359392 non-null  object \n",
      " 4   KM Travelled    359392 non-null  float64\n",
      " 5   Price Charged   359392 non-null  float64\n",
      " 6   Cost of Trip    359392 non-null  float64\n",
      "dtypes: float64(3), int64(1), object(3)\n",
      "memory usage: 19.2+ MB\n"
     ]
    }
   ],
   "source": [
    "Cab_Data.info()"
   ]
  },
  {
   "cell_type": "markdown",
   "id": "18325ca4",
   "metadata": {},
   "source": [
    "### Customer Data"
   ]
  },
  {
   "cell_type": "code",
   "execution_count": 41,
   "id": "254520ca",
   "metadata": {},
   "outputs": [
    {
     "data": {
      "text/html": [
       "<div>\n",
       "<style scoped>\n",
       "    .dataframe tbody tr th:only-of-type {\n",
       "        vertical-align: middle;\n",
       "    }\n",
       "\n",
       "    .dataframe tbody tr th {\n",
       "        vertical-align: top;\n",
       "    }\n",
       "\n",
       "    .dataframe thead th {\n",
       "        text-align: right;\n",
       "    }\n",
       "</style>\n",
       "<table border=\"1\" class=\"dataframe\">\n",
       "  <thead>\n",
       "    <tr style=\"text-align: right;\">\n",
       "      <th></th>\n",
       "      <th>Customer ID</th>\n",
       "      <th>Gender</th>\n",
       "      <th>Age</th>\n",
       "      <th>Income (USD/Month)</th>\n",
       "    </tr>\n",
       "  </thead>\n",
       "  <tbody>\n",
       "    <tr>\n",
       "      <th>0</th>\n",
       "      <td>29290</td>\n",
       "      <td>Male</td>\n",
       "      <td>28</td>\n",
       "      <td>10813</td>\n",
       "    </tr>\n",
       "    <tr>\n",
       "      <th>1</th>\n",
       "      <td>27703</td>\n",
       "      <td>Male</td>\n",
       "      <td>27</td>\n",
       "      <td>9237</td>\n",
       "    </tr>\n",
       "    <tr>\n",
       "      <th>2</th>\n",
       "      <td>28712</td>\n",
       "      <td>Male</td>\n",
       "      <td>53</td>\n",
       "      <td>11242</td>\n",
       "    </tr>\n",
       "    <tr>\n",
       "      <th>3</th>\n",
       "      <td>28020</td>\n",
       "      <td>Male</td>\n",
       "      <td>23</td>\n",
       "      <td>23327</td>\n",
       "    </tr>\n",
       "    <tr>\n",
       "      <th>4</th>\n",
       "      <td>27182</td>\n",
       "      <td>Male</td>\n",
       "      <td>33</td>\n",
       "      <td>8536</td>\n",
       "    </tr>\n",
       "  </tbody>\n",
       "</table>\n",
       "</div>"
      ],
      "text/plain": [
       "   Customer ID Gender  Age  Income (USD/Month)\n",
       "0        29290   Male   28               10813\n",
       "1        27703   Male   27                9237\n",
       "2        28712   Male   53               11242\n",
       "3        28020   Male   23               23327\n",
       "4        27182   Male   33                8536"
      ]
     },
     "execution_count": 41,
     "metadata": {},
     "output_type": "execute_result"
    }
   ],
   "source": [
    "Customer_ID.head()"
   ]
  },
  {
   "cell_type": "code",
   "execution_count": 42,
   "id": "7cf9f7b1",
   "metadata": {},
   "outputs": [
    {
     "data": {
      "text/html": [
       "<div>\n",
       "<style scoped>\n",
       "    .dataframe tbody tr th:only-of-type {\n",
       "        vertical-align: middle;\n",
       "    }\n",
       "\n",
       "    .dataframe tbody tr th {\n",
       "        vertical-align: top;\n",
       "    }\n",
       "\n",
       "    .dataframe thead th {\n",
       "        text-align: right;\n",
       "    }\n",
       "</style>\n",
       "<table border=\"1\" class=\"dataframe\">\n",
       "  <thead>\n",
       "    <tr style=\"text-align: right;\">\n",
       "      <th></th>\n",
       "      <th>Customer ID</th>\n",
       "      <th>Age</th>\n",
       "      <th>Income (USD/Month)</th>\n",
       "    </tr>\n",
       "  </thead>\n",
       "  <tbody>\n",
       "    <tr>\n",
       "      <th>count</th>\n",
       "      <td>49171.000000</td>\n",
       "      <td>49171.000000</td>\n",
       "      <td>49171.000000</td>\n",
       "    </tr>\n",
       "    <tr>\n",
       "      <th>mean</th>\n",
       "      <td>28398.252283</td>\n",
       "      <td>35.363121</td>\n",
       "      <td>15015.631856</td>\n",
       "    </tr>\n",
       "    <tr>\n",
       "      <th>std</th>\n",
       "      <td>17714.137333</td>\n",
       "      <td>12.599066</td>\n",
       "      <td>8002.208253</td>\n",
       "    </tr>\n",
       "    <tr>\n",
       "      <th>min</th>\n",
       "      <td>1.000000</td>\n",
       "      <td>18.000000</td>\n",
       "      <td>2000.000000</td>\n",
       "    </tr>\n",
       "    <tr>\n",
       "      <th>25%</th>\n",
       "      <td>12654.500000</td>\n",
       "      <td>25.000000</td>\n",
       "      <td>8289.500000</td>\n",
       "    </tr>\n",
       "    <tr>\n",
       "      <th>50%</th>\n",
       "      <td>27631.000000</td>\n",
       "      <td>33.000000</td>\n",
       "      <td>14656.000000</td>\n",
       "    </tr>\n",
       "    <tr>\n",
       "      <th>75%</th>\n",
       "      <td>43284.500000</td>\n",
       "      <td>42.000000</td>\n",
       "      <td>21035.000000</td>\n",
       "    </tr>\n",
       "    <tr>\n",
       "      <th>max</th>\n",
       "      <td>60000.000000</td>\n",
       "      <td>65.000000</td>\n",
       "      <td>35000.000000</td>\n",
       "    </tr>\n",
       "  </tbody>\n",
       "</table>\n",
       "</div>"
      ],
      "text/plain": [
       "        Customer ID           Age  Income (USD/Month)\n",
       "count  49171.000000  49171.000000        49171.000000\n",
       "mean   28398.252283     35.363121        15015.631856\n",
       "std    17714.137333     12.599066         8002.208253\n",
       "min        1.000000     18.000000         2000.000000\n",
       "25%    12654.500000     25.000000         8289.500000\n",
       "50%    27631.000000     33.000000        14656.000000\n",
       "75%    43284.500000     42.000000        21035.000000\n",
       "max    60000.000000     65.000000        35000.000000"
      ]
     },
     "execution_count": 42,
     "metadata": {},
     "output_type": "execute_result"
    }
   ],
   "source": [
    "Customer_ID.describe()"
   ]
  },
  {
   "cell_type": "code",
   "execution_count": 43,
   "id": "07e40c78",
   "metadata": {},
   "outputs": [
    {
     "name": "stdout",
     "output_type": "stream",
     "text": [
      "<class 'pandas.core.frame.DataFrame'>\n",
      "RangeIndex: 49171 entries, 0 to 49170\n",
      "Data columns (total 4 columns):\n",
      " #   Column              Non-Null Count  Dtype \n",
      "---  ------              --------------  ----- \n",
      " 0   Customer ID         49171 non-null  int64 \n",
      " 1   Gender              49171 non-null  object\n",
      " 2   Age                 49171 non-null  int64 \n",
      " 3   Income (USD/Month)  49171 non-null  int64 \n",
      "dtypes: int64(3), object(1)\n",
      "memory usage: 1.5+ MB\n"
     ]
    }
   ],
   "source": [
    "Customer_ID.info()"
   ]
  },
  {
   "cell_type": "markdown",
   "id": "9a20220f",
   "metadata": {},
   "source": [
    "### Transaction Data"
   ]
  },
  {
   "cell_type": "code",
   "execution_count": 44,
   "id": "a81e6589",
   "metadata": {},
   "outputs": [
    {
     "data": {
      "text/html": [
       "<div>\n",
       "<style scoped>\n",
       "    .dataframe tbody tr th:only-of-type {\n",
       "        vertical-align: middle;\n",
       "    }\n",
       "\n",
       "    .dataframe tbody tr th {\n",
       "        vertical-align: top;\n",
       "    }\n",
       "\n",
       "    .dataframe thead th {\n",
       "        text-align: right;\n",
       "    }\n",
       "</style>\n",
       "<table border=\"1\" class=\"dataframe\">\n",
       "  <thead>\n",
       "    <tr style=\"text-align: right;\">\n",
       "      <th></th>\n",
       "      <th>Transaction ID</th>\n",
       "      <th>Customer ID</th>\n",
       "      <th>Payment_Mode</th>\n",
       "    </tr>\n",
       "  </thead>\n",
       "  <tbody>\n",
       "    <tr>\n",
       "      <th>0</th>\n",
       "      <td>10000011</td>\n",
       "      <td>29290</td>\n",
       "      <td>Card</td>\n",
       "    </tr>\n",
       "    <tr>\n",
       "      <th>1</th>\n",
       "      <td>10000012</td>\n",
       "      <td>27703</td>\n",
       "      <td>Card</td>\n",
       "    </tr>\n",
       "    <tr>\n",
       "      <th>2</th>\n",
       "      <td>10000013</td>\n",
       "      <td>28712</td>\n",
       "      <td>Cash</td>\n",
       "    </tr>\n",
       "    <tr>\n",
       "      <th>3</th>\n",
       "      <td>10000014</td>\n",
       "      <td>28020</td>\n",
       "      <td>Cash</td>\n",
       "    </tr>\n",
       "    <tr>\n",
       "      <th>4</th>\n",
       "      <td>10000015</td>\n",
       "      <td>27182</td>\n",
       "      <td>Card</td>\n",
       "    </tr>\n",
       "  </tbody>\n",
       "</table>\n",
       "</div>"
      ],
      "text/plain": [
       "   Transaction ID  Customer ID Payment_Mode\n",
       "0        10000011        29290         Card\n",
       "1        10000012        27703         Card\n",
       "2        10000013        28712         Cash\n",
       "3        10000014        28020         Cash\n",
       "4        10000015        27182         Card"
      ]
     },
     "execution_count": 44,
     "metadata": {},
     "output_type": "execute_result"
    }
   ],
   "source": [
    "Transaction_ID.head()"
   ]
  },
  {
   "cell_type": "code",
   "execution_count": 45,
   "id": "6c579684",
   "metadata": {},
   "outputs": [
    {
     "data": {
      "text/html": [
       "<div>\n",
       "<style scoped>\n",
       "    .dataframe tbody tr th:only-of-type {\n",
       "        vertical-align: middle;\n",
       "    }\n",
       "\n",
       "    .dataframe tbody tr th {\n",
       "        vertical-align: top;\n",
       "    }\n",
       "\n",
       "    .dataframe thead th {\n",
       "        text-align: right;\n",
       "    }\n",
       "</style>\n",
       "<table border=\"1\" class=\"dataframe\">\n",
       "  <thead>\n",
       "    <tr style=\"text-align: right;\">\n",
       "      <th></th>\n",
       "      <th>Transaction ID</th>\n",
       "      <th>Customer ID</th>\n",
       "    </tr>\n",
       "  </thead>\n",
       "  <tbody>\n",
       "    <tr>\n",
       "      <th>count</th>\n",
       "      <td>4.400980e+05</td>\n",
       "      <td>440098.000000</td>\n",
       "    </tr>\n",
       "    <tr>\n",
       "      <th>mean</th>\n",
       "      <td>1.022006e+07</td>\n",
       "      <td>23619.513120</td>\n",
       "    </tr>\n",
       "    <tr>\n",
       "      <th>std</th>\n",
       "      <td>1.270455e+05</td>\n",
       "      <td>21195.549816</td>\n",
       "    </tr>\n",
       "    <tr>\n",
       "      <th>min</th>\n",
       "      <td>1.000001e+07</td>\n",
       "      <td>1.000000</td>\n",
       "    </tr>\n",
       "    <tr>\n",
       "      <th>25%</th>\n",
       "      <td>1.011004e+07</td>\n",
       "      <td>3530.000000</td>\n",
       "    </tr>\n",
       "    <tr>\n",
       "      <th>50%</th>\n",
       "      <td>1.022006e+07</td>\n",
       "      <td>15168.000000</td>\n",
       "    </tr>\n",
       "    <tr>\n",
       "      <th>75%</th>\n",
       "      <td>1.033008e+07</td>\n",
       "      <td>43884.000000</td>\n",
       "    </tr>\n",
       "    <tr>\n",
       "      <th>max</th>\n",
       "      <td>1.044011e+07</td>\n",
       "      <td>60000.000000</td>\n",
       "    </tr>\n",
       "  </tbody>\n",
       "</table>\n",
       "</div>"
      ],
      "text/plain": [
       "       Transaction ID    Customer ID\n",
       "count    4.400980e+05  440098.000000\n",
       "mean     1.022006e+07   23619.513120\n",
       "std      1.270455e+05   21195.549816\n",
       "min      1.000001e+07       1.000000\n",
       "25%      1.011004e+07    3530.000000\n",
       "50%      1.022006e+07   15168.000000\n",
       "75%      1.033008e+07   43884.000000\n",
       "max      1.044011e+07   60000.000000"
      ]
     },
     "execution_count": 45,
     "metadata": {},
     "output_type": "execute_result"
    }
   ],
   "source": [
    "Transaction_ID.describe()"
   ]
  },
  {
   "cell_type": "code",
   "execution_count": 46,
   "id": "414a9280",
   "metadata": {},
   "outputs": [
    {
     "name": "stdout",
     "output_type": "stream",
     "text": [
      "<class 'pandas.core.frame.DataFrame'>\n",
      "RangeIndex: 440098 entries, 0 to 440097\n",
      "Data columns (total 3 columns):\n",
      " #   Column          Non-Null Count   Dtype \n",
      "---  ------          --------------   ----- \n",
      " 0   Transaction ID  440098 non-null  int64 \n",
      " 1   Customer ID     440098 non-null  int64 \n",
      " 2   Payment_Mode    440098 non-null  object\n",
      "dtypes: int64(2), object(1)\n",
      "memory usage: 10.1+ MB\n"
     ]
    }
   ],
   "source": [
    "Transaction_ID.info()"
   ]
  },
  {
   "cell_type": "markdown",
   "id": "85bbfc51",
   "metadata": {},
   "source": [
    "## Remove Duplicate values from all datasets"
   ]
  },
  {
   "cell_type": "code",
   "execution_count": 47,
   "id": "9424d1cd",
   "metadata": {},
   "outputs": [],
   "source": [
    "Cab_Data = Cab_Data.drop_duplicates(keep=\"first\")\n",
    "City = City.drop_duplicates(keep=\"first\")\n",
    "Customer_ID = Customer_ID.drop_duplicates(keep=\"first\")\n",
    "Transaction_ID = Transaction_ID.drop_duplicates(keep=\"first\")"
   ]
  },
  {
   "cell_type": "markdown",
   "id": "2fb2ea3d",
   "metadata": {},
   "source": [
    "## Combine Datasets"
   ]
  },
  {
   "cell_type": "markdown",
   "id": "bd9e6432",
   "metadata": {},
   "source": [
    "We can see that Cab_Data and Transaction_ID datasets have same columns Transaction ID hence they can be combined by using this feature after which the new dataset will contain Customer ID which can later  be combined with Customer ID dataset"
   ]
  },
  {
   "cell_type": "code",
   "execution_count": 48,
   "id": "55eb37f1",
   "metadata": {},
   "outputs": [
    {
     "data": {
      "text/html": [
       "<div>\n",
       "<style scoped>\n",
       "    .dataframe tbody tr th:only-of-type {\n",
       "        vertical-align: middle;\n",
       "    }\n",
       "\n",
       "    .dataframe tbody tr th {\n",
       "        vertical-align: top;\n",
       "    }\n",
       "\n",
       "    .dataframe thead th {\n",
       "        text-align: right;\n",
       "    }\n",
       "</style>\n",
       "<table border=\"1\" class=\"dataframe\">\n",
       "  <thead>\n",
       "    <tr style=\"text-align: right;\">\n",
       "      <th></th>\n",
       "      <th>Transaction ID</th>\n",
       "      <th>Date of Travel</th>\n",
       "      <th>Company</th>\n",
       "      <th>City</th>\n",
       "      <th>KM Travelled</th>\n",
       "      <th>Price Charged</th>\n",
       "      <th>Cost of Trip</th>\n",
       "      <th>Customer ID</th>\n",
       "      <th>Payment_Mode</th>\n",
       "    </tr>\n",
       "  </thead>\n",
       "  <tbody>\n",
       "    <tr>\n",
       "      <th>0</th>\n",
       "      <td>10000011</td>\n",
       "      <td>08/01/2016</td>\n",
       "      <td>Pink Cab</td>\n",
       "      <td>ATLANTA GA</td>\n",
       "      <td>30.45</td>\n",
       "      <td>370.95</td>\n",
       "      <td>313.635</td>\n",
       "      <td>29290</td>\n",
       "      <td>Card</td>\n",
       "    </tr>\n",
       "    <tr>\n",
       "      <th>1</th>\n",
       "      <td>10000012</td>\n",
       "      <td>06/01/2016</td>\n",
       "      <td>Pink Cab</td>\n",
       "      <td>ATLANTA GA</td>\n",
       "      <td>28.62</td>\n",
       "      <td>358.52</td>\n",
       "      <td>334.854</td>\n",
       "      <td>27703</td>\n",
       "      <td>Card</td>\n",
       "    </tr>\n",
       "    <tr>\n",
       "      <th>2</th>\n",
       "      <td>10000013</td>\n",
       "      <td>02/01/2016</td>\n",
       "      <td>Pink Cab</td>\n",
       "      <td>ATLANTA GA</td>\n",
       "      <td>9.04</td>\n",
       "      <td>125.20</td>\n",
       "      <td>97.632</td>\n",
       "      <td>28712</td>\n",
       "      <td>Cash</td>\n",
       "    </tr>\n",
       "    <tr>\n",
       "      <th>3</th>\n",
       "      <td>10000014</td>\n",
       "      <td>07/01/2016</td>\n",
       "      <td>Pink Cab</td>\n",
       "      <td>ATLANTA GA</td>\n",
       "      <td>33.17</td>\n",
       "      <td>377.40</td>\n",
       "      <td>351.602</td>\n",
       "      <td>28020</td>\n",
       "      <td>Cash</td>\n",
       "    </tr>\n",
       "    <tr>\n",
       "      <th>4</th>\n",
       "      <td>10000015</td>\n",
       "      <td>03/01/2016</td>\n",
       "      <td>Pink Cab</td>\n",
       "      <td>ATLANTA GA</td>\n",
       "      <td>8.73</td>\n",
       "      <td>114.62</td>\n",
       "      <td>97.776</td>\n",
       "      <td>27182</td>\n",
       "      <td>Card</td>\n",
       "    </tr>\n",
       "  </tbody>\n",
       "</table>\n",
       "</div>"
      ],
      "text/plain": [
       "   Transaction ID Date of Travel   Company        City  KM Travelled  \\\n",
       "0        10000011     08/01/2016  Pink Cab  ATLANTA GA         30.45   \n",
       "1        10000012     06/01/2016  Pink Cab  ATLANTA GA         28.62   \n",
       "2        10000013     02/01/2016  Pink Cab  ATLANTA GA          9.04   \n",
       "3        10000014     07/01/2016  Pink Cab  ATLANTA GA         33.17   \n",
       "4        10000015     03/01/2016  Pink Cab  ATLANTA GA          8.73   \n",
       "\n",
       "   Price Charged  Cost of Trip  Customer ID Payment_Mode  \n",
       "0         370.95       313.635        29290         Card  \n",
       "1         358.52       334.854        27703         Card  \n",
       "2         125.20        97.632        28712         Cash  \n",
       "3         377.40       351.602        28020         Cash  \n",
       "4         114.62        97.776        27182         Card  "
      ]
     },
     "execution_count": 48,
     "metadata": {},
     "output_type": "execute_result"
    }
   ],
   "source": [
    "df =pd.merge(Cab_Data,Transaction_ID)\n",
    "df.head()"
   ]
  },
  {
   "cell_type": "markdown",
   "id": "58d51183",
   "metadata": {},
   "source": [
    "Now combine the df with Customer_ID dataset"
   ]
  },
  {
   "cell_type": "code",
   "execution_count": 49,
   "id": "049b6cf0",
   "metadata": {},
   "outputs": [
    {
     "data": {
      "text/html": [
       "<div>\n",
       "<style scoped>\n",
       "    .dataframe tbody tr th:only-of-type {\n",
       "        vertical-align: middle;\n",
       "    }\n",
       "\n",
       "    .dataframe tbody tr th {\n",
       "        vertical-align: top;\n",
       "    }\n",
       "\n",
       "    .dataframe thead th {\n",
       "        text-align: right;\n",
       "    }\n",
       "</style>\n",
       "<table border=\"1\" class=\"dataframe\">\n",
       "  <thead>\n",
       "    <tr style=\"text-align: right;\">\n",
       "      <th></th>\n",
       "      <th>Transaction ID</th>\n",
       "      <th>Date of Travel</th>\n",
       "      <th>Company</th>\n",
       "      <th>City</th>\n",
       "      <th>KM Travelled</th>\n",
       "      <th>Price Charged</th>\n",
       "      <th>Cost of Trip</th>\n",
       "      <th>Customer ID</th>\n",
       "      <th>Payment_Mode</th>\n",
       "      <th>Gender</th>\n",
       "      <th>Age</th>\n",
       "      <th>Income (USD/Month)</th>\n",
       "    </tr>\n",
       "  </thead>\n",
       "  <tbody>\n",
       "    <tr>\n",
       "      <th>0</th>\n",
       "      <td>10000011</td>\n",
       "      <td>08/01/2016</td>\n",
       "      <td>Pink Cab</td>\n",
       "      <td>ATLANTA GA</td>\n",
       "      <td>30.45</td>\n",
       "      <td>370.95</td>\n",
       "      <td>313.6350</td>\n",
       "      <td>29290</td>\n",
       "      <td>Card</td>\n",
       "      <td>Male</td>\n",
       "      <td>28</td>\n",
       "      <td>10813</td>\n",
       "    </tr>\n",
       "    <tr>\n",
       "      <th>1</th>\n",
       "      <td>10351127</td>\n",
       "      <td>21/07/2018</td>\n",
       "      <td>Yellow Cab</td>\n",
       "      <td>ATLANTA GA</td>\n",
       "      <td>26.19</td>\n",
       "      <td>598.70</td>\n",
       "      <td>317.4228</td>\n",
       "      <td>29290</td>\n",
       "      <td>Cash</td>\n",
       "      <td>Male</td>\n",
       "      <td>28</td>\n",
       "      <td>10813</td>\n",
       "    </tr>\n",
       "    <tr>\n",
       "      <th>2</th>\n",
       "      <td>10412921</td>\n",
       "      <td>23/11/2018</td>\n",
       "      <td>Yellow Cab</td>\n",
       "      <td>ATLANTA GA</td>\n",
       "      <td>42.55</td>\n",
       "      <td>792.05</td>\n",
       "      <td>597.4020</td>\n",
       "      <td>29290</td>\n",
       "      <td>Card</td>\n",
       "      <td>Male</td>\n",
       "      <td>28</td>\n",
       "      <td>10813</td>\n",
       "    </tr>\n",
       "    <tr>\n",
       "      <th>3</th>\n",
       "      <td>10000012</td>\n",
       "      <td>06/01/2016</td>\n",
       "      <td>Pink Cab</td>\n",
       "      <td>ATLANTA GA</td>\n",
       "      <td>28.62</td>\n",
       "      <td>358.52</td>\n",
       "      <td>334.8540</td>\n",
       "      <td>27703</td>\n",
       "      <td>Card</td>\n",
       "      <td>Male</td>\n",
       "      <td>27</td>\n",
       "      <td>9237</td>\n",
       "    </tr>\n",
       "    <tr>\n",
       "      <th>4</th>\n",
       "      <td>10320494</td>\n",
       "      <td>21/04/2018</td>\n",
       "      <td>Yellow Cab</td>\n",
       "      <td>ATLANTA GA</td>\n",
       "      <td>36.38</td>\n",
       "      <td>721.10</td>\n",
       "      <td>467.1192</td>\n",
       "      <td>27703</td>\n",
       "      <td>Card</td>\n",
       "      <td>Male</td>\n",
       "      <td>27</td>\n",
       "      <td>9237</td>\n",
       "    </tr>\n",
       "  </tbody>\n",
       "</table>\n",
       "</div>"
      ],
      "text/plain": [
       "   Transaction ID Date of Travel     Company        City  KM Travelled  \\\n",
       "0        10000011     08/01/2016    Pink Cab  ATLANTA GA         30.45   \n",
       "1        10351127     21/07/2018  Yellow Cab  ATLANTA GA         26.19   \n",
       "2        10412921     23/11/2018  Yellow Cab  ATLANTA GA         42.55   \n",
       "3        10000012     06/01/2016    Pink Cab  ATLANTA GA         28.62   \n",
       "4        10320494     21/04/2018  Yellow Cab  ATLANTA GA         36.38   \n",
       "\n",
       "   Price Charged  Cost of Trip  Customer ID Payment_Mode Gender  Age  \\\n",
       "0         370.95      313.6350        29290         Card   Male   28   \n",
       "1         598.70      317.4228        29290         Cash   Male   28   \n",
       "2         792.05      597.4020        29290         Card   Male   28   \n",
       "3         358.52      334.8540        27703         Card   Male   27   \n",
       "4         721.10      467.1192        27703         Card   Male   27   \n",
       "\n",
       "   Income (USD/Month)  \n",
       "0               10813  \n",
       "1               10813  \n",
       "2               10813  \n",
       "3                9237  \n",
       "4                9237  "
      ]
     },
     "execution_count": 49,
     "metadata": {},
     "output_type": "execute_result"
    }
   ],
   "source": [
    "df =pd.merge(df,Customer_ID)\n",
    "df.head()"
   ]
  },
  {
   "cell_type": "markdown",
   "id": "dcc0bd03",
   "metadata": {},
   "source": [
    "## Rename Columns and add Month and Year using Date of Travel"
   ]
  },
  {
   "cell_type": "code",
   "execution_count": 50,
   "id": "b88e1d46",
   "metadata": {},
   "outputs": [],
   "source": [
    "for col in df.columns:\n",
    "    if ' ' in col:\n",
    "        df = df.rename(columns={col:col.replace(' ','_')})\n",
    "        \n",
    "df['Date_of_Travel'] = pd.to_datetime(df['Date_of_Travel'], format='%d/%m/%Y')\n",
    "df['Year'] = df['Date_of_Travel'].dt.year\n",
    "df['Month'] = df['Date_of_Travel'].dt.month"
   ]
  },
  {
   "cell_type": "markdown",
   "id": "7726c068",
   "metadata": {},
   "source": [
    "## Now Check the types of cabs used"
   ]
  },
  {
   "cell_type": "code",
   "execution_count": 51,
   "id": "809e8817",
   "metadata": {},
   "outputs": [
    {
     "data": {
      "text/plain": [
       "<AxesSubplot:title={'center':'total Cabs by company'}, xlabel='Company', ylabel='count'>"
      ]
     },
     "execution_count": 51,
     "metadata": {},
     "output_type": "execute_result"
    },
    {
     "data": {
      "image/png": "[encoded data removed]",
      "text/plain": [
       "<Figure size 576x360 with 1 Axes>"
      ]
     },
     "metadata": {
      "needs_background": "light"
     },
     "output_type": "display_data"
    }
   ],
   "source": [
    "plt.figure(figsize=(8, 5))\n",
    "plt.title(\"total Cabs by company\")\n",
    "sns.countplot(x=\"Company\", data=df)"
   ]
  },
  {
   "cell_type": "markdown",
   "id": "0d091998",
   "metadata": {},
   "source": [
    "## Number of customers in each city"
   ]
  },
  {
   "cell_type": "code",
   "execution_count": 52,
   "id": "714a3d29",
   "metadata": {},
   "outputs": [
    {
     "data": {
      "text/plain": [
       "(array([ 0,  1,  2,  3,  4,  5,  6,  7,  8,  9, 10, 11, 12, 13, 14, 15, 16,\n",
       "        17, 18]),\n",
       " [Text(0, 0, 'ATLANTA GA'),\n",
       "  Text(1, 0, 'AUSTIN TX'),\n",
       "  Text(2, 0, 'BOSTON MA'),\n",
       "  Text(3, 0, 'CHICAGO IL'),\n",
       "  Text(4, 0, 'DALLAS TX'),\n",
       "  Text(5, 0, 'DENVER CO'),\n",
       "  Text(6, 0, 'LOS ANGELES CA'),\n",
       "  Text(7, 0, 'MIAMI FL'),\n",
       "  Text(8, 0, 'NASHVILLE TN'),\n",
       "  Text(9, 0, 'NEW YORK NY'),\n",
       "  Text(10, 0, 'ORANGE COUNTY'),\n",
       "  Text(11, 0, 'PHOENIX AZ'),\n",
       "  Text(12, 0, 'PITTSBURGH PA'),\n",
       "  Text(13, 0, 'SACRAMENTO CA'),\n",
       "  Text(14, 0, 'SAN DIEGO CA'),\n",
       "  Text(15, 0, 'SEATTLE WA'),\n",
       "  Text(16, 0, 'SILICON VALLEY'),\n",
       "  Text(17, 0, 'TUCSON AZ'),\n",
       "  Text(18, 0, 'WASHINGTON DC')])"
      ]
     },
     "execution_count": 52,
     "metadata": {},
     "output_type": "execute_result"
    },
    {
     "data": {
      "image/png": "[encoded data removed]",
      "text/plain": [
       "<Figure size 720x432 with 1 Axes>"
      ]
     },
     "metadata": {
      "needs_background": "light"
     },
     "output_type": "display_data"
    }
   ],
   "source": [
    "plt.figure(figsize=(10, 6))\n",
    "plt.title(\"Customers in each city\")\n",
    "sns.countplot(x=\"City\", data=df)\n",
    "plt.xticks(rotation=90)"
   ]
  },
  {
   "cell_type": "markdown",
   "id": "6b76493c",
   "metadata": {},
   "source": [
    "## Number of customers in each city distributed by company"
   ]
  },
  {
   "cell_type": "code",
   "execution_count": 53,
   "id": "26b343ae",
   "metadata": {},
   "outputs": [
    {
     "data": {
      "text/plain": [
       "<AxesSubplot:title={'center':'Customers in each city'}, xlabel='Company', ylabel='count'>"
      ]
     },
     "execution_count": 53,
     "metadata": {},
     "output_type": "execute_result"
    },
    {
     "data": {
      "image/png": "[encoded data removed]",
      "text/plain": [
       "<Figure size 1080x576 with 1 Axes>"
      ]
     },
     "metadata": {
      "needs_background": "light"
     },
     "output_type": "display_data"
    }
   ],
   "source": [
    "plt.figure(figsize=(15, 8))\n",
    "plt.title(\"Customers in each city\")\n",
    "sns.countplot(x=\"Company\", hue = \"City\",data=df)"
   ]
  },
  {
   "cell_type": "markdown",
   "id": "418c0ce9",
   "metadata": {},
   "source": [
    "## Gender of travellers distributed by Cab service"
   ]
  },
  {
   "cell_type": "code",
   "execution_count": 54,
   "id": "06336cc3",
   "metadata": {},
   "outputs": [
    {
     "data": {
      "text/plain": [
       "<AxesSubplot:title={'center':'Total Customers by Gender'}, xlabel='Company', ylabel='count'>"
      ]
     },
     "execution_count": 54,
     "metadata": {},
     "output_type": "execute_result"
    },
    {
     "data": {
      "image/png": "[encoded data removed]",
      "text/plain": [
       "<Figure size 576x360 with 1 Axes>"
      ]
     },
     "metadata": {
      "needs_background": "light"
     },
     "output_type": "display_data"
    }
   ],
   "source": [
    "plt.figure(figsize=(8, 5))\n",
    "plt.title(\"Total Customers by Gender\")\n",
    "#sns.countplot(x=\"Gender\", data=df)\n",
    "sns.countplot(x=\"Company\", hue=\"Gender\", data=df)"
   ]
  },
  {
   "cell_type": "code",
   "execution_count": 55,
   "id": "fac3861b",
   "metadata": {},
   "outputs": [
    {
     "data": {
      "image/png": "[encoded data removed]",
      "text/plain": [
       "<Figure size 576x360 with 1 Axes>"
      ]
     },
     "metadata": {
      "needs_background": "light"
     },
     "output_type": "display_data"
    }
   ],
   "source": [
    "dff = df.groupby(['Year']).Transaction_ID.count()\n",
    "plt.figure(figsize=(8,5))\n",
    "sns.barplot(x=dff.index,y=dff.values)\n",
    "plt.title('Travel frequency by years')\n",
    "plt.show()"
   ]
  },
  {
   "cell_type": "markdown",
   "id": "aecbafd0",
   "metadata": {},
   "source": [
    "## Analysis of Travellers each year by company type"
   ]
  },
  {
   "cell_type": "code",
   "execution_count": 56,
   "id": "82bf6201",
   "metadata": {},
   "outputs": [
    {
     "data": {
      "text/plain": [
       "<AxesSubplot:title={'center':'Total Travellers each year'}, xlabel='Company', ylabel='count'>"
      ]
     },
     "execution_count": 56,
     "metadata": {},
     "output_type": "execute_result"
    },
    {
     "data": {
      "image/png": "[encoded data removed]",
      "text/plain": [
       "<Figure size 1008x360 with 1 Axes>"
      ]
     },
     "metadata": {
      "needs_background": "light"
     },
     "output_type": "display_data"
    }
   ],
   "source": [
    "plt.figure(figsize=(14, 5))\n",
    "plt.title(\"Total Travellers each year\")\n",
    "sns.countplot(x=\"Company\", hue=\"Year\", data=df)"
   ]
  },
  {
   "cell_type": "markdown",
   "id": "9bc6984e",
   "metadata": {},
   "source": [
    "## Travel Frequency by Month"
   ]
  },
  {
   "cell_type": "code",
   "execution_count": 57,
   "id": "96c38444",
   "metadata": {},
   "outputs": [
    {
     "data": {
      "image/png": "[encoded data removed]",
      "text/plain": [
       "<Figure size 1008x432 with 1 Axes>"
      ]
     },
     "metadata": {
      "needs_background": "light"
     },
     "output_type": "display_data"
    }
   ],
   "source": [
    "dff = df.groupby(['Month']).Transaction_ID.count()\n",
    "plt.figure(figsize=(14,6))\n",
    "sns.barplot(x=dff.index,y=dff.values)\n",
    "plt.title('Travel frequency by Months')\n",
    "plt.show()"
   ]
  },
  {
   "cell_type": "markdown",
   "id": "b6c54caa",
   "metadata": {},
   "source": [
    "## Travellers by company in each month"
   ]
  },
  {
   "cell_type": "code",
   "execution_count": 58,
   "id": "bb165555",
   "metadata": {},
   "outputs": [
    {
     "data": {
      "text/plain": [
       "<AxesSubplot:title={'center':'Total Customers by company in each month'}, xlabel='Company', ylabel='count'>"
      ]
     },
     "execution_count": 58,
     "metadata": {},
     "output_type": "execute_result"
    },
    {
     "data": {
      "image/png": "[encoded data removed]",
      "text/plain": [
       "<Figure size 1008x360 with 1 Axes>"
      ]
     },
     "metadata": {
      "needs_background": "light"
     },
     "output_type": "display_data"
    }
   ],
   "source": [
    "plt.figure(figsize=(14, 5))\n",
    "plt.title(\"Total Customers by company in each month\")\n",
    "sns.countplot(x=\"Company\", hue=\"Month\", data=df)"
   ]
  },
  {
   "cell_type": "markdown",
   "id": "042b7b93",
   "metadata": {},
   "source": [
    "## Analysis of Transactions and Payment methods"
   ]
  },
  {
   "cell_type": "code",
   "execution_count": 59,
   "id": "4ea0eb09",
   "metadata": {},
   "outputs": [
    {
     "data": {
      "text/plain": [
       "<AxesSubplot:title={'center':'Total Transactions by Company and Payment Method'}, xlabel='Company', ylabel='count'>"
      ]
     },
     "execution_count": 59,
     "metadata": {},
     "output_type": "execute_result"
    },
    {
     "data": {
      "image/png": "[encoded data removed]",
      "text/plain": [
       "<Figure size 1080x360 with 2 Axes>"
      ]
     },
     "metadata": {
      "needs_background": "light"
     },
     "output_type": "display_data"
    }
   ],
   "source": [
    "pl = plt.figure(figsize=(15, 5))\n",
    "pl.add_subplot(1,2,1)\n",
    "plt.title(\"Total Transactions by Company\")\n",
    "sns.countplot(x=\"Company\", data=df, palette=[\"#ff00d0\",\"#fff700\"])\n",
    "\n",
    "pl.add_subplot(1,2,2)\n",
    "plt.title(\"Total Transactions by Company and Payment Method\")\n",
    "sns.countplot(x=\"Company\", hue=\"Payment_Mode\", data=df)"
   ]
  },
  {
   "cell_type": "markdown",
   "id": "5eda6897",
   "metadata": {},
   "source": [
    "## Analysis of Age of people using both services"
   ]
  },
  {
   "cell_type": "code",
   "execution_count": 60,
   "id": "8d9e19dd",
   "metadata": {},
   "outputs": [
    {
     "data": {
      "image/png": "[encoded data removed]",
      "text/plain": [
       "<Figure size 1080x360 with 2 Axes>"
      ]
     },
     "metadata": {},
     "output_type": "display_data"
    }
   ],
   "source": [
    "df1 = df[df['Company'] == 'Pink Cab'].copy()\n",
    "df2 = df[df['Company'] == 'Yellow Cab'].copy()\n",
    "\n",
    "pl = plt.figure(figsize=(15, 5))\n",
    "pl.add_subplot(1,2,1)\n",
    "\n",
    "t1 = (df1['Age'] <=30).value_counts()[1]\n",
    "t3 =  ((df1['Age'] > 30).value_counts()[1] - (df1['Age'] > 40).value_counts()[1])\n",
    "t4 =  ((df1['Age'] > 40).value_counts()[1] - (df1['Age'] > 50).value_counts()[1])\n",
    "t6 = (df1['Age'] > 50).value_counts()[1]\n",
    "\n",
    "Tasks = [t1,t3,t4,t6]\n",
    "\n",
    "my_labels = 'Age : 18-30','Age : 31-40','Age : 41-50','Above 50'\n",
    "plt.pie(Tasks,labels=my_labels,autopct='%1.1f%%')\n",
    "plt.title('Distribution of Pink Cab Travellers by age')\n",
    "plt.axis('equal')\n",
    "\n",
    "\n",
    "pl.add_subplot(1,2,2)\n",
    "\n",
    "\n",
    "\n",
    "t11 = (df2['Age'] <=30).value_counts()[1]\n",
    "t31 =  ((df2['Age'] > 30).value_counts()[1] - (df2['Age'] > 40).value_counts()[1])\n",
    "t41 =  ((df2['Age'] > 40).value_counts()[1] - (df2['Age'] > 50).value_counts()[1])\n",
    "t61 = (df2['Age'] > 50).value_counts()[1]\n",
    "\n",
    "Tasks = [t11,t31,t41,t61]\n",
    "\n",
    "my_labels = 'Age : 18-30','Age : 31-40','Age : 41-50','Above 50'\n",
    "plt.pie(Tasks,labels=my_labels,autopct='%1.1f%%')\n",
    "plt.title('Distribution of Yellow Cab Travellers by age')\n",
    "plt.axis('equal')\n",
    "plt.show()"
   ]
  },
  {
   "cell_type": "code",
   "execution_count": 61,
   "id": "9243aea3",
   "metadata": {},
   "outputs": [
    {
     "data": {
      "image/png": "[encoded data removed]",
      "text/plain": [
       "<Figure size 1080x360 with 2 Axes>"
      ]
     },
     "metadata": {},
     "output_type": "display_data"
    }
   ],
   "source": [
    "df1 = df[df['Company'] == 'Pink Cab'].copy()\n",
    "df2 = df[df['Company'] == 'Yellow Cab'].copy()\n",
    "\n",
    "pl = plt.figure(figsize=(15, 5))\n",
    "pl.add_subplot(1,2,1)\n",
    "\n",
    "t1 = (df1['KM_Travelled'] <=10).value_counts()[1]\n",
    "t3 =  ((df1['KM_Travelled'] > 10).value_counts()[1] - (df1['KM_Travelled'] > 20).value_counts()[1])\n",
    "t4 =  ((df1['KM_Travelled'] > 20).value_counts()[1] - (df1['KM_Travelled'] > 30).value_counts()[1])\n",
    "t5 =  ((df1['KM_Travelled'] > 30).value_counts()[1] - (df1['KM_Travelled'] > 40).value_counts()[1])\n",
    "t6 = (df1['KM_Travelled'] > 40).value_counts()[1]\n",
    "\n",
    "Tasks = [t1,t3,t4,t5,t6]\n",
    "\n",
    "my_labels = 'Below 10km','11-20 km','21-30 km','31-40 km','Above 40km'\n",
    "plt.pie(Tasks,labels=my_labels,autopct='%1.1f%%')\n",
    "plt.title('Distribution of Pink Cab Travellers by km travelled')\n",
    "plt.axis('equal')\n",
    "\n",
    "\n",
    "pl.add_subplot(1,2,2)\n",
    "\n",
    "t1 = (df2['KM_Travelled'] <=10).value_counts()[1]\n",
    "t3 =  ((df2['KM_Travelled'] > 10).value_counts()[1] - (df2['KM_Travelled'] > 20).value_counts()[1])\n",
    "t4 =  ((df2['KM_Travelled'] > 20).value_counts()[1] - (df2['KM_Travelled'] > 30).value_counts()[1])\n",
    "t5 =  ((df2['KM_Travelled'] > 30).value_counts()[1] - (df2['KM_Travelled'] > 40).value_counts()[1])\n",
    "t6 = (df2['KM_Travelled'] > 40).value_counts()[1]\n",
    "\n",
    "Tasks = [t1,t3,t4,t5,t6]\n",
    "\n",
    "my_labels = 'Below 10 km','11-20 km','21-30 km','31-40 km','Above 40km'\n",
    "plt.pie(Tasks,labels=my_labels,autopct='%1.1f%%')\n",
    "plt.title('Distribution of Yellow Cab Travellers by km travelled')\n",
    "plt.axis('equal')\n",
    "plt.show()"
   ]
  },
  {
   "cell_type": "markdown",
   "id": "2b6d7228",
   "metadata": {},
   "source": [
    "## Conclusions"
   ]
  },
  {
   "cell_type": "markdown",
   "id": "6e14de98",
   "metadata": {},
   "source": [
    "- Yellow Cab has more travelers than Pink cab and hence is more profitable.\n",
    "\n",
    "- There is more proportion of male travelers than female in both companies.  \n",
    "\n",
    "- Users of both companies prefer using card as a payment method.\n",
    "\n",
    "- New York, Chicago and Washington DC have the maximum number of travelers.\n",
    "\n",
    "- The majority of cab riders are 40-year-old or younger.\n",
    "\n",
    "- Typical car rides do not exceed 40 kilometers"
   ]
  },
  {
   "cell_type": "markdown",
   "id": "ebcdaa92",
   "metadata": {},
   "source": [
    "## Recommendations"
   ]
  },
  {
   "cell_type": "markdown",
   "id": "e76a6df9",
   "metadata": {},
   "source": [
    "- Yellow is more profitable hence we recommend to invest in that company.\n",
    "- The ideal time to start the service is towards the end of the years because of more travelers. \n",
    "- Make sure that the new service accepts the card as a payment method because that is preferable.\n",
    "- It is recommended to target New York, Chicago and Washington DC because they are good marketplaces"
   ]
  },
  {
   "cell_type": "code",
   "execution_count": null,
   "id": "dd764cf9",
   "metadata": {},
   "outputs": [],
   "source": []
  }
 ],
 "metadata": {
  "kernelspec": {
   "display_name": "Python 3",
   "language": "python",
   "name": "python3"
  },
  "language_info": {
   "codemirror_mode": {
    "name": "ipython",
    "version": 3
   },
   "file_extension": ".py",
   "mimetype": "text/x-python",
   "name": "python",
   "nbconvert_exporter": "python",
   "pygments_lexer": "ipython3",
   "version": "3.8.8"
  }
 },
 "nbformat": 4,
 "nbformat_minor": 5
}
